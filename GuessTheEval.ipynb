{
 "cells": [
  {
   "cell_type": "markdown",
   "metadata": {
    "id": "rwDnDeql2KCx"
   },
   "source": [
    "# **Project Description**\n",
    "As an avid chess player, I follow several chess content creators for educationak and entertainment purposes. One such creator is Levy Rozman, AKA Gothamchess, and as the most popular chess content creator on Youtube (as of January 2025), Levy's content spans a wide variety of topics including recaps of games played by world class players, chess opening tutorials, and comedic showcases of extremely low-quality games riddled with hilarious mistakes.\n",
    "\n",
    "One day, I was watching a video covering one such low-quality game, titled \"Bye.\" (for those who are interested, please see the video at this link: https://www.youtube.com/watch?v=cIPpHQTrcsU). As he often does, Levy was commenting on the difference between the Stockfish evaluation of a certain position (Stockfish being the world's strongest engine) and the way the game was likely to go. More specifically, he was talking about a position where Stockfish was evaluating the position to be minus 5.1 (meaning Black was winning, with an advantage equivalent to being 5 pawns up). He then said \"... I wish we had a stockfish filter and we could tell Stockfish, 'hey, these players are 500', and then Stockfish would be smart enough to be like 'oh, then it's like plus 1'. Wouldn't that be genius?\". Immediately, I agreed; **it would be genius**. This is what caused me to pursue this project.\n",
    "\n",
    "Here, I attempt to create a model similar to the one Levy spoke of in this video: one that adjusts its evaluation based on the strength of the players, assuming the players are around the same rating. The hope is that this can become an effective tool for improvement in chess. Depending on the accuracy of this model, I envision being it distinguishing between perfect play and, for example, moves I'm likely to make as an intermediate level player, thereby informing me of mistakes I'm likely to make at my level.\n",
    "\n",
    "### **Note:**\n",
    "I primarily play on chess.com and, given the choice, would prefer to use chess.com game data for model training due to game ratings being slightly less inflated than on Lichess. However, chess.com's API unfortunately has very strict rate limiting, with mass downloading being discouraged and often resulting in bans. Additionally, it is only possible to download games per player.\n",
    "\n",
    "In contrast, Lichess, the second most popular online chess platform, actively encourages data analysis in the following ways:\n",
    "\n",
    "\n",
    "*   Providing complete monthly database dumps ([here](https://database.lichess.org))\n",
    "*   More permissive API with clear documentation and rate limits\n",
    "*   Direct bulk download options through API and web interface\n",
    "\n",
    "Thus, I'll be using Lichess games as training data for this project.\n",
    "\n",
    "\n"
   ]
  },
  {
   "cell_type": "markdown",
   "metadata": {
    "id": "XUMOzACrdUoF"
   },
   "source": [
    "## Mounting to Google Drive\n",
    "\n",
    "Before continuing, we connect Colab to Google Drive. If anyone other than myself wishes to run this code, you will need to follow these steps:\n",
    "1.   Upload a copy of this project and all dependancies (with the same directory system as on my github's [Guess_The_Eval](https://github.com/daichijoseph/Guess_The_Eval) repository) to your google drive\n",
    "2.   Change the `PROJECT_PATH` variable based on the directory you place the code in\n",
    "3.   Run the cell below, choose and authenticate your google account, and accept the requested permissions (no viruses, trust)"
   ]
  },
  {
   "cell_type": "code",
   "execution_count": 3,
   "metadata": {
    "colab": {
     "base_uri": "https://localhost:8080/"
    },
    "executionInfo": {
     "elapsed": 2076,
     "status": "ok",
     "timestamp": 1736702385108,
     "user": {
      "displayName": "Daichi Watanabe",
      "userId": "12413966188300733127"
     },
     "user_tz": -540
    },
    "id": "pT0jIrh72D9F",
    "outputId": "713d3ad6-9c0c-4939-b8c6-ecab8966d02c"
   },
   "outputs": [
    {
     "name": "stdout",
     "output_type": "stream",
     "text": [
      "Drive already mounted at /content/drive; to attempt to forcibly remount, call drive.mount(\"/content/drive\", force_remount=True).\n",
      "/content/drive/MyDrive/GuessTheEval\n"
     ]
    }
   ],
   "source": [
    "from google.colab import drive\n",
    "drive.mount('/content/drive')\n",
    "PROJECT_PATH = '/content/drive/MyDrive/GuessTheEval'\n",
    "%cd $PROJECT_PATH"
   ]
  },
  {
   "cell_type": "markdown",
   "metadata": {
    "id": "scAUQqOG-J8y"
   },
   "source": [
    "From here on, we'll be assuming that the most recent version of Stockfish at this time (Stockfish 17) is the standard for \"perfect play\".\n",
    "\n",
    "The raw output of the model we create will likely be a set of probabilities representing the chances of White winning, White and Black drawing, and Black winning. We will then need to convert those probabilities to the aforementioned standard evaluation units (White's pawn advantage). Thus, a sensible place to start is to find the function (and inverse of the function) that converts pawn advantage to probability of white winning. As consistent with intuition, this function is known to be a logistic curve with the following equation,\n",
    "<br>\n",
    "<br>\n",
    "$$W = \\frac{1}{1+e^\\frac{-(a-P)}{b}}$$\n",
    "<br>\n",
    "where $W$ is the probability of White winning, $P$ is White's advantage in centipawns (i.e. $P=100$ corresponds to an evaluation of +1), and $a$ and $b$ are parameters that influence the shape of the curve. Normally, these parameters must be found empirically through a process involving games Stockfish plays against itself. Thanfully, Lichess has done that part for us, and uses a version of the conversion formula with the following coefficients:\n",
    "<br>\n",
    "<br>\n",
    "\n",
    "$$\n",
    "W = \\frac{1}{100}\\left(50 + 50\\left(\\frac{2}{1+e^{-0.00368208*cp}} - 1\\right)\\right)\n",
    "$$\n",
    "\n",
    "<br>\n",
    "where $W$ is the probability of white winning and $cp$ is the centipawn loss (the same as P in the general formula). Since we're going to be using Lichess data, I believe it is reasonable to use this formula.\n",
    "\n",
    "Solving for cp, we have the following:\n",
    "<br>\n",
    "<br>\n",
    "$$\n",
    "\\begin{align}\n",
    "\\frac{100W - 50}{50} &= \\frac{2}{1+e^{-0.00368208*cp}} - 1 \\\\\n",
    "\\frac{100W}{50} &= \\frac{2}{1+e^{-0.00368208*cp}} \\\\\n",
    "\\frac{50}{100W} &= \\frac{1+e^{-0.00368208*cp}}{2} \\\\\n",
    "e^{-0.00368208*cp} &= \\frac{1-W}{W} \\\\\n",
    "cp &= \\frac{-\\ln\\left(\\frac{1-W}{W}\\right)}{0.00368208}\n",
    "\\end{align}\n",
    "$$\n",
    "<br>\n",
    "Thus, we get our inverse function for converting probability of white winning to centipawn loss:\n",
    "<br>\n",
    "<br>\n",
    "\n",
    "$$ cp = \\frac{-\\ln\\left(\\frac{1-W}{W}\\right)}{0.00368208} $$\n",
    "\n",
    "<br>\n",
    "\n",
    "\n",
    "\n"
   ]
  },
  {
   "cell_type": "markdown",
   "metadata": {
    "id": "zk63JpdBauv9"
   },
   "source": [
    "**NOTE TO SELF**\n",
    "\n",
    "When it comes down to it, we're not going to be analyzing games but rather positions. Hence, one interesting (perhaps original) idea is to **train the model on moves by black and moves by white *separately***.\n",
    "\n",
    "At the very least, the model will have a feature labeling whether it's black or white to move (likely ply), and this may be enough. However, while mentality is often the same whether a player is playing white or black (especially for weaker players and/or when one person has a significant advantage), as a chess player, I know anecdotally that the mindset of someone playing White tends towards aggression and making something happen, whereas that of someone playing Black tends to be more defensive."
   ]
  },
  {
   "cell_type": "code",
   "execution_count": 6,
   "metadata": {
    "id": "HiEd8AYqDT2r"
   },
   "outputs": [
    {
     "ename": "AttributeError",
     "evalue": "module 'berserk' has no attribute 'client'",
     "output_type": "error",
     "traceback": [
      "\u001b[0;31m---------------------------------------------------------------------------\u001b[0m",
      "\u001b[0;31mAttributeError\u001b[0m                            Traceback (most recent call last)",
      "Cell \u001b[0;32mIn[6], line 3\u001b[0m\n\u001b[1;32m      1\u001b[0m \u001b[38;5;28;01mimport\u001b[39;00m\u001b[38;5;250m \u001b[39m\u001b[38;5;21;01mLichessData\u001b[39;00m\n\u001b[0;32m----> 3\u001b[0m client \u001b[38;5;241m=\u001b[39m \u001b[43mLichessData\u001b[49m\u001b[38;5;241;43m.\u001b[39;49m\u001b[43mcreate_client\u001b[49m\u001b[43m(\u001b[49m\u001b[43m)\u001b[49m\n\u001b[1;32m      4\u001b[0m games \u001b[38;5;241m=\u001b[39m LichessData\u001b[38;5;241m.\u001b[39mget_games(Client\u001b[38;5;241m=\u001b[39mclient)\n\u001b[1;32m      5\u001b[0m \u001b[38;5;28mprint\u001b[39m(games)\n",
      "File \u001b[0;32m~/Desktop/GuessTheEval/LichessData.py:10\u001b[0m, in \u001b[0;36mcreate_client\u001b[0;34m()\u001b[0m\n\u001b[1;32m      8\u001b[0m \u001b[38;5;28;01mdef\u001b[39;00m\u001b[38;5;250m \u001b[39m\u001b[38;5;21mcreate_client\u001b[39m():\n\u001b[1;32m      9\u001b[0m     session \u001b[38;5;241m=\u001b[39m berserk\u001b[38;5;241m.\u001b[39mTokenSession(API_TOKEN)\n\u001b[0;32m---> 10\u001b[0m     \u001b[38;5;28;01mreturn\u001b[39;00m \u001b[43mberserk\u001b[49m\u001b[38;5;241;43m.\u001b[39;49m\u001b[43mclient\u001b[49m(session\u001b[38;5;241m=\u001b[39msession)\n",
      "\u001b[0;31mAttributeError\u001b[0m: module 'berserk' has no attribute 'client'"
     ]
    }
   ],
   "source": [
    "import LichessData\n",
    "\n",
    "client = LichessData.create_client()\n",
    "games = LichessData.get_games(Client=client)\n",
    "print(games)"
   ]
  },
  {
   "cell_type": "code",
   "execution_count": null,
   "metadata": {},
   "outputs": [],
   "source": []
  }
 ],
 "metadata": {
  "colab": {
   "authorship_tag": "ABX9TyNBo8KZgWKArZkjBwX+pxoO",
   "provenance": []
  },
  "kernelspec": {
   "display_name": ".venv",
   "language": "python",
   "name": "python3"
  },
  "language_info": {
   "codemirror_mode": {
    "name": "ipython",
    "version": 3
   },
   "file_extension": ".py",
   "mimetype": "text/x-python",
   "name": "python",
   "nbconvert_exporter": "python",
   "pygments_lexer": "ipython3",
   "version": "3.12.1"
  }
 },
 "nbformat": 4,
 "nbformat_minor": 0
}
